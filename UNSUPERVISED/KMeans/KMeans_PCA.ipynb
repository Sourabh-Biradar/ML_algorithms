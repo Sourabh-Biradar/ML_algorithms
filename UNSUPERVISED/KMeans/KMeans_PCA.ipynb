{
 "cells": [
  {
   "cell_type": "code",
   "execution_count": 1,
   "id": "6e2375ab-7c9e-4c59-a4da-934f112abb13",
   "metadata": {},
   "outputs": [],
   "source": [
    "# KMeans \n",
    "\n",
    "# PCA"
   ]
  },
  {
   "cell_type": "code",
   "execution_count": 2,
   "id": "ae611be0-fa79-4882-a65d-2c9aeb68d2d7",
   "metadata": {},
   "outputs": [],
   "source": [
    "from sklearn.datasets import make_blobs\n",
    "from sklearn.model_selection import train_test_split\n",
    "from sklearn.preprocessing import StandardScaler\n",
    "\n",
    "X,y = make_blobs(n_samples=1000,n_features=20,centers=4)\n",
    "\n",
    "X_train,X_test,_,_ = train_test_split(X,y,test_size=0.30,random_state=38)\n",
    "\n",
    "scaler = StandardScaler()\n",
    "X_train = scaler.fit_transform(X_train)\n",
    "X_test = scaler.transform(X_test)"
   ]
  },
  {
   "cell_type": "code",
   "execution_count": 4,
   "id": "d8257f02-1a13-470c-950c-4d4d7b9e0fa4",
   "metadata": {},
   "outputs": [],
   "source": [
    "from sklearn.decomposition import PCA\n",
    "\n",
    "pca = PCA(n_components=3)\n",
    "\n",
    "pca_result = pca.fit_transform(X_train)"
   ]
  },
  {
   "cell_type": "code",
   "execution_count": 5,
   "id": "dd94c664-a93f-4a14-8f09-207d2551f2b3",
   "metadata": {},
   "outputs": [],
   "source": [
    "from sklearn.cluster import KMeans\n",
    "\n",
    "kmeans = KMeans(n_clusters=4,init='k-means++',random_state=22)\n",
    "\n",
    "y_pred = kmeans.fit_predict(pca_result)"
   ]
  },
  {
   "cell_type": "code",
   "execution_count": 7,
   "id": "64b5bb25-8bdc-41ae-8475-f4d780325962",
   "metadata": {},
   "outputs": [
    {
     "name": "stdout",
     "output_type": "stream",
     "text": [
      "Silhouette score: 0.904\n"
     ]
    }
   ],
   "source": [
    "from sklearn.metrics import silhouette_score\n",
    "\n",
    "score = silhouette_score(pca_result, y_pred)\n",
    "\n",
    "print(f\"Silhouette score: {score:.3f}\")"
   ]
  }
 ],
 "metadata": {
  "kernelspec": {
   "display_name": "Python 3 (ipykernel)",
   "language": "python",
   "name": "python3"
  },
  "language_info": {
   "codemirror_mode": {
    "name": "ipython",
    "version": 3
   },
   "file_extension": ".py",
   "mimetype": "text/x-python",
   "name": "python",
   "nbconvert_exporter": "python",
   "pygments_lexer": "ipython3",
   "version": "3.13.5"
  }
 },
 "nbformat": 4,
 "nbformat_minor": 5
}
