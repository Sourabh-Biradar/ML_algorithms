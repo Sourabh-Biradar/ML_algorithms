{
 "cells": [
  {
   "cell_type": "code",
   "execution_count": 2,
   "id": "7819807f-6518-48a4-a3ea-0cd8d537cb85",
   "metadata": {},
   "outputs": [],
   "source": [
    "# Isolation Forest for Anomaly detection"
   ]
  },
  {
   "cell_type": "code",
   "execution_count": 4,
   "id": "f098a4d1-845c-4c4a-8fe6-19e500fbb2d7",
   "metadata": {},
   "outputs": [],
   "source": [
    "import pandas as pd\n",
    "\n",
    "X = pd.read_csv('healthcare.csv')"
   ]
  },
  {
   "cell_type": "code",
   "execution_count": null,
   "id": "7a23cd28-c4df-4cc9-a531-55245831b26a",
   "metadata": {},
   "outputs": [],
   "source": [
    "from sklearn.ensemble import IsolationForest\n",
    "\n",
    "model = IsolationForest(contamination=0.2)\n",
    "\n",
    "model.fit(X)\n",
    "\n",
    "pred = model.predict(X)"
   ]
  },
  {
   "cell_type": "code",
   "execution_count": null,
   "id": "065b6d44-11c4-450a-9303-582d39318df0",
   "metadata": {},
   "outputs": [],
   "source": [
    "anomaly_score = model.decision_function(X)\n",
    "\n",
    "normal = X[pred==1]\n",
    "anomalies = X[pred==-1]"
   ]
  },
  {
   "cell_type": "code",
   "execution_count": null,
   "id": "bde2ea11-3876-4fb0-9a57-1917fdbc21b7",
   "metadata": {},
   "outputs": [],
   "source": [
    "plt.scatter(normal[:,0],normal[:,1],c='skyblue',label='normal points')\n",
    "\n",
    "plt.scatter(anomalies[:,0],anomalies[:,1],c='red',label='anomalies')"
   ]
  },
  {
   "cell_type": "code",
   "execution_count": null,
   "id": "2234e427-e662-4b54-85c8-ff899a091177",
   "metadata": {},
   "outputs": [],
   "source": [
    "print(f'number of normal points = {np.sum(pred==1)}')\n",
    "print(f'number of anomalies = {np.sum(pred==-1)}')"
   ]
  }
 ],
 "metadata": {
  "kernelspec": {
   "display_name": "Python 3 (ipykernel)",
   "language": "python",
   "name": "python3"
  },
  "language_info": {
   "codemirror_mode": {
    "name": "ipython",
    "version": 3
   },
   "file_extension": ".py",
   "mimetype": "text/x-python",
   "name": "python",
   "nbconvert_exporter": "python",
   "pygments_lexer": "ipython3",
   "version": "3.13.5"
  }
 },
 "nbformat": 4,
 "nbformat_minor": 5
}
