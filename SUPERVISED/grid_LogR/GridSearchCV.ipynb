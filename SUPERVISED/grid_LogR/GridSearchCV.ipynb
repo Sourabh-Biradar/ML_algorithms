{
 "cells": [
  {
   "cell_type": "code",
   "execution_count": 1,
   "id": "1fab4e65-1548-452e-926c-8d29317c68f3",
   "metadata": {},
   "outputs": [],
   "source": [
    "# Logistic Regression\n",
    "\n",
    "# Hyperparameter tuning : Grid Search CV\n",
    "\n",
    "from sklearn.datasets import make_classification"
   ]
  },
  {
   "cell_type": "code",
   "execution_count": 3,
   "id": "dbd92b98-c0b4-40a3-889a-1c9a97971e2d",
   "metadata": {},
   "outputs": [],
   "source": [
    "X,y = make_classification(n_samples=1000,n_features=10,n_classes=2,random_state=42)"
   ]
  },
  {
   "cell_type": "code",
   "execution_count": 4,
   "id": "b97853e5-afae-4f84-8b86-503fcfeffca4",
   "metadata": {},
   "outputs": [],
   "source": [
    "from sklearn.model_selection import train_test_split\n",
    "X_train,X_test,y_train,y_test = train_test_split(X,y,test_size=0.25,random_state=42)"
   ]
  },
  {
   "cell_type": "code",
   "execution_count": 9,
   "id": "acc69fa0-bc25-46da-9c49-063baa2f439b",
   "metadata": {},
   "outputs": [],
   "source": [
    "from sklearn.linear_model import LogisticRegression\n",
    "model = LogisticRegression()\n",
    "penalty = ['l1','l2','elesticnet']\n",
    "c_values = [100,10,1,0.1,0.01]\n",
    "solver = ['newton-cg','lbfgs','sag','saga','liblinear']\n",
    "\n",
    "params = dict(penalty=penalty,C=c_values,solver=solver)"
   ]
  },
  {
   "cell_type": "code",
   "execution_count": 15,
   "id": "99b58117-67f2-4b6f-bb74-980ce3e571e1",
   "metadata": {},
   "outputs": [],
   "source": [
    "import warnings\n",
    "warnings.filterwarnings('ignore')"
   ]
  },
  {
   "cell_type": "code",
   "execution_count": 16,
   "id": "dbc133d9-9f46-4db0-9984-9ead26b76623",
   "metadata": {},
   "outputs": [
    {
     "data": {
      "text/plain": [
       "{'C': 0.01, 'penalty': 'l2', 'solver': 'newton-cg'}"
      ]
     },
     "execution_count": 16,
     "metadata": {},
     "output_type": "execute_result"
    }
   ],
   "source": [
    "from sklearn.model_selection import GridSearchCV,StratifiedKFold\n",
    "\n",
    "gridcv=GridSearchCV(estimator = model,param_grid=params,scoring='accuracy',cv=StratifiedKFold())\n",
    "gridcv.fit(X_train,y_train)\n",
    "\n",
    "gridcv.best_params_"
   ]
  },
  {
   "cell_type": "code",
   "execution_count": 17,
   "id": "a7d1b39c-fdb1-432f-b4c4-bd16041f6a97",
   "metadata": {},
   "outputs": [
    {
     "data": {
      "text/plain": [
       "np.float64(0.8773333333333333)"
      ]
     },
     "execution_count": 17,
     "metadata": {},
     "output_type": "execute_result"
    }
   ],
   "source": [
    "gridcv.best_score_"
   ]
  },
  {
   "cell_type": "code",
   "execution_count": 18,
   "id": "1a1ee644-0380-4ba8-8351-369a5334c8d0",
   "metadata": {},
   "outputs": [],
   "source": [
    "y_pred = gridcv.predict(X_test)"
   ]
  },
  {
   "cell_type": "code",
   "execution_count": 19,
   "id": "7724253b-4e38-4299-8d31-f8797ee98f3d",
   "metadata": {},
   "outputs": [
    {
     "name": "stdout",
     "output_type": "stream",
     "text": [
      "0.84\n",
      "[[103  30]\n",
      " [ 10 107]]\n",
      "              precision    recall  f1-score   support\n",
      "\n",
      "           0       0.91      0.77      0.84       133\n",
      "           1       0.78      0.91      0.84       117\n",
      "\n",
      "    accuracy                           0.84       250\n",
      "   macro avg       0.85      0.84      0.84       250\n",
      "weighted avg       0.85      0.84      0.84       250\n",
      "\n"
     ]
    }
   ],
   "source": [
    "from sklearn.metrics import accuracy_score,classification_report,confusion_matrix\n",
    "score = accuracy_score(y_pred,y_test)\n",
    "cm = confusion_matrix(y_pred,y_test)\n",
    "class_report = classification_report(y_pred,y_test)\n",
    "\n",
    "print(score)\n",
    "print(cm)\n",
    "print(class_report)"
   ]
  }
 ],
 "metadata": {
  "kernelspec": {
   "display_name": "Python 3 (ipykernel)",
   "language": "python",
   "name": "python3"
  },
  "language_info": {
   "codemirror_mode": {
    "name": "ipython",
    "version": 3
   },
   "file_extension": ".py",
   "mimetype": "text/x-python",
   "name": "python",
   "nbconvert_exporter": "python",
   "pygments_lexer": "ipython3",
   "version": "3.13.5"
  }
 },
 "nbformat": 4,
 "nbformat_minor": 5
}
