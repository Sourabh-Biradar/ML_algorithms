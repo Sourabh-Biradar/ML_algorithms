{
 "cells": [
  {
   "cell_type": "code",
   "execution_count": null,
   "id": "730c0a86-d9a5-47fc-b103-049b983cb018",
   "metadata": {},
   "outputs": [],
   "source": [
    "# Boosting\n",
    "\n",
    "# Gradient Boost\n",
    "\n",
    "# GB-Classifier"
   ]
  },
  {
   "cell_type": "code",
   "execution_count": 1,
   "id": "f7080125-c1a2-46a8-9a1f-548068bd390d",
   "metadata": {},
   "outputs": [],
   "source": [
    "import pandas as pd\n",
    "\n",
    "df = pd.read_csv('Travel.csv')"
   ]
  },
  {
   "cell_type": "code",
   "execution_count": 3,
   "id": "4e5347b1-a853-43de-b793-a57d6d6b9cc1",
   "metadata": {},
   "outputs": [],
   "source": [
    "X = df.drop(['ProdTaken','CustomerID'],axis=1)\n",
    "y = df['ProdTaken']"
   ]
  },
  {
   "cell_type": "code",
   "execution_count": 4,
   "id": "391c788b-31e1-487a-97ea-d64c2e070120",
   "metadata": {},
   "outputs": [],
   "source": [
    "from sklearn.model_selection import train_test_split\n",
    "\n",
    "X_train,X_test,y_train,y_test = train_test_split(X,y,test_size=0.3,random_state=10,stratify=y)"
   ]
  },
  {
   "cell_type": "code",
   "execution_count": 5,
   "id": "a3db86a1-c602-4a81-9b8e-aabf30725ed5",
   "metadata": {},
   "outputs": [],
   "source": [
    "cat_feats = X_train.select_dtypes(include='object').columns\n",
    "num_feats = X_train.select_dtypes(include=['int','float']).columns"
   ]
  },
  {
   "cell_type": "code",
   "execution_count": 20,
   "id": "119f2a3d-eac3-40f2-bd36-5258bb92631a",
   "metadata": {},
   "outputs": [],
   "source": [
    "from sklearn.pipeline import Pipeline\n",
    "from sklearn.preprocessing import OneHotEncoder\n",
    "from sklearn.compose import ColumnTransformer\n",
    "from sklearn.impute import SimpleImputer\n",
    "from sklearn.ensemble import GradientBoostingClassifier\n",
    "\n",
    "num_transformer = Pipeline([\n",
    "    ('imputer', SimpleImputer(strategy='median'))\n",
    "])\n",
    "\n",
    "cat_transformer = Pipeline([\n",
    "    ('imputer', SimpleImputer(strategy='most_frequent')),\n",
    "    ('onehot', OneHotEncoder(handle_unknown='ignore'))\n",
    "])\n",
    "\n",
    "preprocessor = ColumnTransformer([\n",
    "        ('num', num_transformer, num_feats),\n",
    "        ('cat', cat_transformer, cat_feats)\n",
    "    ])\n",
    "\n",
    "# Create the full model pipeline\n",
    "model_pipeline = Pipeline(steps=[\n",
    "    ('preprocessor', preprocessor),\n",
    "    ('GB-Class', GradientBoostingClassifier(random_state=42))\n",
    "])"
   ]
  },
  {
   "cell_type": "code",
   "execution_count": 21,
   "id": "02221650-5c25-4f2d-abb4-9ebb3088b4e4",
   "metadata": {},
   "outputs": [],
   "source": [
    "model_pipeline.fit(X_train,y_train)\n",
    "\n",
    "y_pred = model_pipeline.predict(X_test)\n",
    "y_proba = model_pipeline.predict_proba(X_test)[:,1]"
   ]
  },
  {
   "cell_type": "code",
   "execution_count": 22,
   "id": "d2e98795-9809-4771-81f7-9583b49bdedb",
   "metadata": {},
   "outputs": [
    {
     "name": "stdout",
     "output_type": "stream",
     "text": [
      "accuracy_score = 0.8629856850715747\n",
      "confusion_matrix = [[1156   35]\n",
      " [ 166  110]]\n",
      "classification report =\n",
      "               precision    recall  f1-score   support\n",
      "\n",
      "           0       0.87      0.97      0.92      1191\n",
      "           1       0.76      0.40      0.52       276\n",
      "\n",
      "    accuracy                           0.86      1467\n",
      "   macro avg       0.82      0.68      0.72      1467\n",
      "weighted avg       0.85      0.86      0.85      1467\n",
      "\n"
     ]
    }
   ],
   "source": [
    "from sklearn.metrics import accuracy_score,confusion_matrix,classification_report,roc_auc_score,roc_curve\n",
    "\n",
    "accuracy = accuracy_score(y_test,y_pred)\n",
    "cm = confusion_matrix(y_test,y_pred)\n",
    "report = classification_report(y_test,y_pred)\n",
    "\n",
    "auc_score = roc_auc_score(y_test,y_proba)\n",
    "\n",
    "print(f'accuracy_score = {accuracy}')\n",
    "print(f'confusion_matrix = {cm}')\n",
    "print(f'classification report =\\n {report}')"
   ]
  },
  {
   "cell_type": "code",
   "execution_count": 23,
   "id": "515a3b06-6cfe-49b8-bbbe-7894f4566d13",
   "metadata": {},
   "outputs": [
    {
     "name": "stdout",
     "output_type": "stream",
     "text": [
      "accuracy_score = 0.8629856850715747\n",
      "confusion_matrix = [[1156   35]\n",
      " [ 166  110]]\n",
      "classification report =\n",
      "               precision    recall  f1-score   support\n",
      "\n",
      "           0       0.87      0.97      0.92      1191\n",
      "           1       0.76      0.40      0.52       276\n",
      "\n",
      "    accuracy                           0.86      1467\n",
      "   macro avg       0.82      0.68      0.72      1467\n",
      "weighted avg       0.85      0.86      0.85      1467\n",
      "\n"
     ]
    }
   ],
   "source": [
    "import warnings as w;w.filterwarnings('ignore')\n",
    "\n",
    "from sklearn.model_selection import RandomizedSearchCV\n",
    "\n",
    "params = {\n",
    "    'GB-Class__loss':['log_loss','deviance','exponential'],\n",
    "    'GB-Class__criterion':['friedman_mse','squared_error','mse'],\n",
    "    'GB-Class__min_samples_split':[2,8,15,20],\n",
    "    'GB-Class__n_estimators':[100,200,300,500],\n",
    "    'GB-Class__max_depth':[5,8,12,15,None,10]\n",
    "}\n",
    "\n",
    "randomcv = RandomizedSearchCV(model_pipeline,param_distributions=params,cv=3,n_iter=100)\n",
    "\n",
    "randomcv.fit(X_train,y_train)\n",
    "\n",
    "y_pred_ = randomcv.predict(X_test)\n",
    "y_proba_ = randomcv.predict_proba(X_test)[:,1]\n",
    "\n",
    "accuracy = accuracy_score(y_test,y_pred)\n",
    "cm = confusion_matrix(y_test,y_pred)\n",
    "report = classification_report(y_test,y_pred)\n",
    "\n",
    "print(f'accuracy_score = {accuracy}')\n",
    "print(f'confusion_matrix = {cm}')\n",
    "print(f'classification report =\\n {report}')"
   ]
  },
  {
   "cell_type": "code",
   "execution_count": 25,
   "id": "cdfd2363-2b95-4a09-ab38-6e2e3ff66502",
   "metadata": {},
   "outputs": [
    {
     "data": {
      "image/png": "[encoded data removed]",
      "text/plain": [
       "<Figure size 640x480 with 1 Axes>"
      ]
     },
     "metadata": {},
     "output_type": "display_data"
    }
   ],
   "source": [
    "import matplotlib.pyplot as plt\n",
    "\n",
    "auc_score = roc_auc_score(y_test,y_proba_)\n",
    "fpr,tpr,threshold = roc_curve (y_test,y_proba_)\n",
    "\n",
    "plt.plot(fpr,tpr,label=f'auc = {auc_score:.3f}')\n",
    "plt.plot([0,1],[0,1],'y--')\n",
    "plt.legend()\n",
    "plt.show()"
   ]
  }
 ],
 "metadata": {
  "kernelspec": {
   "display_name": "Python 3 (ipykernel)",
   "language": "python",
   "name": "python3"
  },
  "language_info": {
   "codemirror_mode": {
    "name": "ipython",
    "version": 3
   },
   "file_extension": ".py",
   "mimetype": "text/x-python",
   "name": "python",
   "nbconvert_exporter": "python",
   "pygments_lexer": "ipython3",
   "version": "3.13.5"
  }
 },
 "nbformat": 4,
 "nbformat_minor": 5
}
