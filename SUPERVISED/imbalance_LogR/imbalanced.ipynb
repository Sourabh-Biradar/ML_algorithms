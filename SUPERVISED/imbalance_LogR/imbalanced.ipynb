{
 "cells": [
  {
   "cell_type": "code",
   "execution_count": 3,
   "id": "70c4cdae-2ecf-4044-af0e-854e749f9314",
   "metadata": {},
   "outputs": [],
   "source": [
    "# Logistic Regression\n",
    "\n",
    "# imbalanced dataset\n",
    "\n",
    "import warnings;warnings.filterwarnings('ignore')\n",
    "\n",
    "from sklearn.datasets import make_classification\n",
    "\n",
    "X,y = make_classification(n_samples=1000,n_features=2,n_clusters_per_class=1,n_redundant=0,weights=[0.99],random_state=42)"
   ]
  },
  {
   "cell_type": "code",
   "execution_count": 4,
   "id": "8ee3d958-fdac-4557-b05d-3dfdfcc6a356",
   "metadata": {},
   "outputs": [],
   "source": [
    "from sklearn.model_selection import train_test_split\n",
    "\n",
    "X_train,X_test,y_train,y_test = train_test_split(X,y,test_size=0.30,random_state=12)"
   ]
  },
  {
   "cell_type": "code",
   "execution_count": 5,
   "id": "8f120871-4792-417e-bc43-f085c679ed52",
   "metadata": {},
   "outputs": [],
   "source": [
    "from sklearn.linear_model import LogisticRegression\n",
    "model = LogisticRegression()\n",
    "\n",
    "penalty = ['l1','l2','elasticnet']\n",
    "c_values = [100,10,1,0.1,0.01]\n",
    "solver = ['newton-cg','lbfgs','sag','saga','liblinear']\n",
    "\n",
    "class_weights = [{0:w,1:y} for w in [1,10,50,100] for y in [1,10,50,100]]"
   ]
  },
  {
   "cell_type": "code",
   "execution_count": 8,
   "id": "8c44777e-bdae-420f-bcdc-86d4f2ef5694",
   "metadata": {},
   "outputs": [],
   "source": [
    "params = dict(penalty=penalty,C=c_values,solver=solver,class_weight=class_weights)"
   ]
  },
  {
   "cell_type": "code",
   "execution_count": 9,
   "id": "39cceebf-3b4e-42c2-aab8-700a43f9fbdc",
   "metadata": {},
   "outputs": [
    {
     "data": {
      "text/plain": [
       "{'C': 100, 'class_weight': {0: 100, 1: 100}, 'penalty': 'l2', 'solver': 'saga'}"
      ]
     },
     "execution_count": 9,
     "metadata": {},
     "output_type": "execute_result"
    }
   ],
   "source": [
    "from sklearn.model_selection import GridSearchCV,StratifiedKFold\n",
    "\n",
    "cv = StratifiedKFold()\n",
    "grid = GridSearchCV(estimator = model, param_grid = params ,scoring = 'accuracy',cv=cv)\n",
    "\n",
    "grid.fit(X_train,y_train)\n",
    "\n",
    "grid.best_params_"
   ]
  },
  {
   "cell_type": "code",
   "execution_count": 10,
   "id": "a7973825-f665-43ee-aae1-4ceedf910a35",
   "metadata": {},
   "outputs": [
    {
     "data": {
      "text/plain": [
       "np.float64(0.9985714285714286)"
      ]
     },
     "execution_count": 10,
     "metadata": {},
     "output_type": "execute_result"
    }
   ],
   "source": [
    "grid.best_score_"
   ]
  },
  {
   "cell_type": "code",
   "execution_count": 11,
   "id": "999f3d48-eedb-479e-8bd8-02526aaf449c",
   "metadata": {},
   "outputs": [],
   "source": [
    "y_pred = grid.predict(X_test)"
   ]
  },
  {
   "cell_type": "code",
   "execution_count": 13,
   "id": "d1aab600-9f78-4c0a-9719-01a60e0d8d8c",
   "metadata": {},
   "outputs": [
    {
     "name": "stdout",
     "output_type": "stream",
     "text": [
      "0.9833333333333333\n",
      "[[294   0]\n",
      " [  5   1]]\n",
      "              precision    recall  f1-score   support\n",
      "\n",
      "           0       0.98      1.00      0.99       294\n",
      "           1       1.00      0.17      0.29         6\n",
      "\n",
      "    accuracy                           0.98       300\n",
      "   macro avg       0.99      0.58      0.64       300\n",
      "weighted avg       0.98      0.98      0.98       300\n",
      "\n"
     ]
    }
   ],
   "source": [
    "from sklearn.metrics import accuracy_score,confusion_matrix,classification_report\n",
    "\n",
    "score = accuracy_score(y_test,y_pred)\n",
    "cm = confusion_matrix(y_test,y_pred)\n",
    "report = classification_report(y_test,y_pred)\n",
    "\n",
    "print(score)\n",
    "print(cm)\n",
    "print(report)"
   ]
  }
 ],
 "metadata": {
  "kernelspec": {
   "display_name": "Python 3 (ipykernel)",
   "language": "python",
   "name": "python3"
  },
  "language_info": {
   "codemirror_mode": {
    "name": "ipython",
    "version": 3
   },
   "file_extension": ".py",
   "mimetype": "text/x-python",
   "name": "python",
   "nbconvert_exporter": "python",
   "pygments_lexer": "ipython3",
   "version": "3.13.5"
  }
 },
 "nbformat": 4,
 "nbformat_minor": 5
}
