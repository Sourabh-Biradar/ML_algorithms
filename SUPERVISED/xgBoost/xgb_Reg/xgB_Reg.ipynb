{
 "cells": [
  {
   "cell_type": "code",
   "execution_count": 1,
   "id": "33bd35e6-e165-4b69-96a8-6263e0bd05f9",
   "metadata": {},
   "outputs": [
    {
     "name": "stdout",
     "output_type": "stream",
     "text": [
      "Requirement already satisfied: xgboost in /opt/anaconda3/lib/python3.13/site-packages (3.0.4)\n",
      "Requirement already satisfied: numpy in /opt/anaconda3/lib/python3.13/site-packages (from xgboost) (2.1.3)\n",
      "Requirement already satisfied: scipy in /opt/anaconda3/lib/python3.13/site-packages (from xgboost) (1.15.3)\n"
     ]
    }
   ],
   "source": [
    "# Boosting\n",
    "\n",
    "# xgBoost ( Extreme Gradient Boosting)\n",
    "\n",
    "# xgB-Reg\n",
    "\n",
    "!pip install xgboost"
   ]
  },
  {
   "cell_type": "code",
   "execution_count": 2,
   "id": "6fde5125-1875-4996-858b-db74dd9e5838",
   "metadata": {},
   "outputs": [],
   "source": [
    "import pandas as pd\n",
    "import numpy as np\n",
    "import matplotlib.pyplot as plt\n",
    "import seaborn as sns\n",
    "\n",
    "df = pd.read_csv('cardekho.csv')\n",
    "\n",
    "df.drop(['Unnamed: 0','car_name','brand'],axis=1,inplace=True)\n",
    "\n",
    "X = df.drop('selling_price',axis=1)\n",
    "y = df['selling_price']\n",
    "\n",
    "from sklearn.model_selection import train_test_split\n",
    "X_train,X_test,y_train,y_test = train_test_split(X,y,test_size=0.20,random_state=42)\n",
    "\n",
    "num_cols = X_train.select_dtypes(exclude='object').columns\n",
    "cat_cols = X_train.select_dtypes(include='object').columns\n",
    "\n",
    "from sklearn.preprocessing import OneHotEncoder\n",
    "from sklearn.compose import ColumnTransformer\n",
    "from sklearn.pipeline import Pipeline\n",
    "from xgboost import XGBRegressor\n",
    "\n",
    "oh_cols = ['model', 'seller_type', 'fuel_type', 'transmission_type']\n",
    "\n",
    "preprocessor = ColumnTransformer(\n",
    "    [('OneHotEn', OneHotEncoder(handle_unknown='ignore', sparse_output=False), oh_cols)],\n",
    "    remainder='passthrough'\n",
    ")\n",
    "\n",
    "model_pipeline = Pipeline([\n",
    "    ('preprocessor',preprocessor),\n",
    "    ('XGB-Reg',XGBRegressor())\n",
    "])\n",
    "\n",
    "model_pipeline.fit(X_train,y_train)\n",
    "\n",
    "y_pred = model_pipeline.predict(X_test)"
   ]
  },
  {
   "cell_type": "code",
   "execution_count": 3,
   "id": "344837ff-7f1b-4402-ba46-ee5438609e1a",
   "metadata": {},
   "outputs": [
    {
     "name": "stdout",
     "output_type": "stream",
     "text": [
      "r2_score=0.9409081339836121\n",
      "mae = 98409.546875\n",
      "rmse = 210910.6090077026\n"
     ]
    }
   ],
   "source": [
    "from sklearn.metrics import r2_score,mean_absolute_error,mean_squared_error\n",
    "\n",
    "score = r2_score(y_test,y_pred)\n",
    "mae = mean_absolute_error(y_test,y_pred)\n",
    "mse = mean_squared_error(y_test,y_pred)\n",
    "rmse = np.sqrt(mse)\n",
    "\n",
    "print(f'r2_score={score}')\n",
    "print(f'mae = {mae}')\n",
    "print(f'rmse = {rmse}')"
   ]
  },
  {
   "cell_type": "code",
   "execution_count": null,
   "id": "824fbd86-4799-4c64-b25e-055434545aed",
   "metadata": {},
   "outputs": [],
   "source": [
    "from sklearn.model_selection import RandomizedSearchCV\n",
    "\n",
    "params = {\n",
    "    'XGB-Reg__colsample_bytree':[0.5,0.8,1,0.3],\n",
    "    'XGB-Reg__max_depth':[5,10,None],\n",
    "    'XGB-Reg__n_estimators':[100,200,300],\n",
    "    'XGB-Reg__learning_rate':[0.1,0.001]\n",
    "}\n",
    "\n",
    "randomcv = RandomizedSearchCV(model_pipeline,param_distributions=params , cv=3 ,n_iter=28)\n",
    "\n",
    "randomcv.fit(X_train,y_train)\n",
    "\n",
    "model = randomcv.best_estimator_\n",
    "\n",
    "y_pred_ = model.predict(X_test)\n",
    "\n",
    "score = r2_score(y_test,y_pred_)\n",
    "mae = mean_absolute_error(y_test,y_pred_)\n",
    "mse = mean_squared_error(y_test,y_pred_)\n",
    "rmse = np.sqrt(mse)\n",
    "\n",
    "print(f'r2_score={score}')\n",
    "print(f'mae = {mae}')\n",
    "print(f'rmse = {rmse}')"
   ]
  },
  {
   "cell_type": "code",
   "execution_count": null,
   "id": "bd6fe640-ca02-4709-a86b-6c36f8b14132",
   "metadata": {},
   "outputs": [],
   "source": [
    "sns.scatterplot(y_test,y_pred_)\n",
    "plt.plot([y_test.min(),y_test.max()],[y_test.min(),y_test.max()],'p--')"
   ]
  }
 ],
 "metadata": {
  "kernelspec": {
   "display_name": "Python 3 (ipykernel)",
   "language": "python",
   "name": "python3"
  },
  "language_info": {
   "codemirror_mode": {
    "name": "ipython",
    "version": 3
   },
   "file_extension": ".py",
   "mimetype": "text/x-python",
   "name": "python",
   "nbconvert_exporter": "python",
   "pygments_lexer": "ipython3",
   "version": "3.13.5"
  }
 },
 "nbformat": 4,
 "nbformat_minor": 5
}
