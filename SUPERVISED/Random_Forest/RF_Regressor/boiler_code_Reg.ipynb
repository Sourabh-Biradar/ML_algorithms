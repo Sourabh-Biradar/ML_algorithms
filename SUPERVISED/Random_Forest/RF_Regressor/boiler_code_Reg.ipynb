{
 "cells": [
  {
   "cell_type": "code",
   "execution_count": 43,
   "id": "33bd35e6-e165-4b69-96a8-6263e0bd05f9",
   "metadata": {},
   "outputs": [],
   "source": [
    "# cleaned carsdekho.com dataset ,train-test-split"
   ]
  },
  {
   "cell_type": "code",
   "execution_count": 44,
   "id": "6fde5125-1875-4996-858b-db74dd9e5838",
   "metadata": {},
   "outputs": [],
   "source": [
    "import pandas as pd\n",
    "import numpy as np\n",
    "import matplotlib.pyplot as plt\n",
    "import seaborn as sns\n",
    "\n",
    "df = pd.read_csv('cardekho.csv')\n",
    "\n",
    "df.drop(['Unnamed: 0','car_name','brand'],axis=1,inplace=True)\n",
    "\n",
    "num_cols = df.select_dtypes(exclude='object').columns\n",
    "cat_cols = df.select_dtypes(include='object').columns\n",
    "\n",
    "X = df.drop('selling_price',axis=1)\n",
    "y = df['selling_price']\n",
    "\n",
    "from sklearn.model_selection import train_test_split\n",
    "X_train,X_test,y_train,y_test = train_test_split(X,y,test_size=0.20,random_state=42)\n",
    "\n",
    "from sklearn.preprocessing import OneHotEncoder\n",
    "from sklearn.compose import ColumnTransformer\n",
    "\n",
    "oh_cols = ['model', 'seller_type', 'fuel_type', 'transmission_type']\n",
    "\n",
    "preprocessor = ColumnTransformer(\n",
    "    [('OneHotEn', OneHotEncoder(handle_unknown='ignore', sparse_output=False), oh_cols)],\n",
    "    remainder='passthrough'\n",
    ")\n",
    "\n",
    "X_train = preprocessor.fit_transform(X_train)\n",
    "X_test = preprocessor.transform(X_test)"
   ]
  }
 ],
 "metadata": {
  "kernelspec": {
   "display_name": "Python 3 (ipykernel)",
   "language": "python",
   "name": "python3"
  },
  "language_info": {
   "codemirror_mode": {
    "name": "ipython",
    "version": 3
   },
   "file_extension": ".py",
   "mimetype": "text/x-python",
   "name": "python",
   "nbconvert_exporter": "python",
   "pygments_lexer": "ipython3",
   "version": "3.13.5"
  }
 },
 "nbformat": 4,
 "nbformat_minor": 5
}
