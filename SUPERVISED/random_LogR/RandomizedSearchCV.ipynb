{
 "cells": [
  {
   "cell_type": "code",
   "execution_count": 2,
   "id": "e24da90d-78e0-428b-916d-e5ff9859a7ac",
   "metadata": {},
   "outputs": [],
   "source": [
    "# Logistic Regression\n",
    "\n",
    "# Hypertuning : RandomizedSearchCV\n",
    "\n",
    "from sklearn.datasets import make_classification\n",
    "\n",
    "X,y = make_classification(n_samples=1000,n_features=10,n_classes=2,random_state=42)"
   ]
  },
  {
   "cell_type": "code",
   "execution_count": 3,
   "id": "63ca7564-30c1-4b01-b182-43b74bed1d10",
   "metadata": {},
   "outputs": [],
   "source": [
    "from sklearn.model_selection import train_test_split\n",
    "X_train,X_test,y_train,y_test = train_test_split(X,y,test_size=0.30,random_state=42)"
   ]
  },
  {
   "cell_type": "code",
   "execution_count": 6,
   "id": "9170eccd-b898-4d14-b8ba-3c6244a43564",
   "metadata": {},
   "outputs": [],
   "source": [
    "from sklearn.linear_model import LogisticRegression\n",
    "model = LogisticRegression()\n",
    "\n",
    "penalty = ['l1','l2','elasticnet']\n",
    "c_values = [100,10,1,0.1,0.01]\n",
    "solver = ['newton-cg','lbfgs','sag','saga','liblinear']\n",
    "\n",
    "params = dict(penalty=penalty,C=c_values,solver=solver)"
   ]
  },
  {
   "cell_type": "code",
   "execution_count": 9,
   "id": "e6d6d899-c1ff-4ab8-a3fe-2b9f4a15d24a",
   "metadata": {},
   "outputs": [],
   "source": [
    "import warnings\n",
    "warnings.filterwarnings('ignore')"
   ]
  },
  {
   "cell_type": "code",
   "execution_count": 11,
   "id": "b3f830a7-a654-43c6-a705-f227485d5166",
   "metadata": {},
   "outputs": [
    {
     "data": {
      "text/plain": [
       "{'solver': 'sag', 'penalty': 'l2', 'C': 0.01}"
      ]
     },
     "execution_count": 11,
     "metadata": {},
     "output_type": "execute_result"
    }
   ],
   "source": [
    "from sklearn.model_selection import RandomizedSearchCV\n",
    "randomcv = RandomizedSearchCV(estimator = model,param_distributions=params,cv=5,scoring='accuracy')\n",
    "\n",
    "randomcv.fit(X_train,y_train)\n",
    "\n",
    "randomcv.best_params_"
   ]
  },
  {
   "cell_type": "code",
   "execution_count": 13,
   "id": "dc27700f-d964-4522-9301-371e74f9ffd0",
   "metadata": {},
   "outputs": [
    {
     "data": {
      "text/plain": [
       "np.float64(0.8785714285714287)"
      ]
     },
     "execution_count": 13,
     "metadata": {},
     "output_type": "execute_result"
    }
   ],
   "source": [
    "randomcv.best_score_"
   ]
  },
  {
   "cell_type": "code",
   "execution_count": 14,
   "id": "853c9a0e-14cc-4e65-a19f-0028b8dbc171",
   "metadata": {},
   "outputs": [],
   "source": [
    "y_pred = randomcv.predict(X_test)"
   ]
  },
  {
   "cell_type": "code",
   "execution_count": 16,
   "id": "3be88782-6cd9-485e-9a8f-c5f06364bf8b",
   "metadata": {},
   "outputs": [
    {
     "name": "stdout",
     "output_type": "stream",
     "text": [
      "0.8533333333333334\n",
      "[[124  33]\n",
      " [ 11 132]]\n",
      "              precision    recall  f1-score   support\n",
      "\n",
      "           0       0.92      0.79      0.85       157\n",
      "           1       0.80      0.92      0.86       143\n",
      "\n",
      "    accuracy                           0.85       300\n",
      "   macro avg       0.86      0.86      0.85       300\n",
      "weighted avg       0.86      0.85      0.85       300\n",
      "\n"
     ]
    }
   ],
   "source": [
    "from sklearn.metrics import accuracy_score,classification_report,confusion_matrix\n",
    "\n",
    "score = accuracy_score(y_pred,y_test)\n",
    "cm = confusion_matrix(y_pred,y_test)\n",
    "report = classification_report(y_pred,y_test)\n",
    "\n",
    "print(score)\n",
    "print(cm)\n",
    "print(report)"
   ]
  }
 ],
 "metadata": {
  "kernelspec": {
   "display_name": "Python 3 (ipykernel)",
   "language": "python",
   "name": "python3"
  },
  "language_info": {
   "codemirror_mode": {
    "name": "ipython",
    "version": 3
   },
   "file_extension": ".py",
   "mimetype": "text/x-python",
   "name": "python",
   "nbconvert_exporter": "python",
   "pygments_lexer": "ipython3",
   "version": "3.13.5"
  }
 },
 "nbformat": 4,
 "nbformat_minor": 5
}
